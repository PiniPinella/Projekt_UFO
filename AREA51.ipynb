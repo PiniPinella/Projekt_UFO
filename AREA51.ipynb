{
 "cells": [
  {
   "cell_type": "markdown",
   "metadata": {},
   "source": [
    "Vorgehensweise für das Area 51-Special\n",
    "\n",
    "Den Datensatz einlesen\n",
    "\n",
    "Wir laden den UFO-Datensatz mit Pandas.\n",
    "\n",
    "Prüfen die Spalten und Datenstruktur, um sicherzustellen, dass die relevanten Informationen enthalten sind.\n",
    "\n",
    "Area 51-Koordinaten bestimmen\n",
    "\n",
    "Area 51 liegt in Nevada, USA. Wir brauchen den genauen geografischen Bereich (Longitude & Latitude).\n",
    "\n",
    "Daten filtern\n",
    "\n",
    "Wir filtern nur Sichtungen, die innerhalb des Koordinatenbereichs von Area 51 liegen.\n",
    "\n",
    "Analysen durchführen\n",
    "\n",
    "Anzahl der Sichtungen berechnen.\n",
    "\n",
    "Tageszeit der Sichtungen analysieren.\n",
    "\n",
    "Formen der Objekte auswerten.\n",
    "\n",
    "Trends visualisieren (z. B. Histogramm für die Tageszeiten).\n",
    "\n",
    "Ergebnisse visualisieren\n",
    "\n",
    "Diagramme erstellen (z. B. Barplot, Lineplot oder Scatterplot)"
   ]
  },
  {
   "cell_type": "code",
   "execution_count": 54,
   "metadata": {},
   "outputs": [],
   "source": [
    "import pandas as pd"
   ]
  },
  {
   "cell_type": "code",
   "execution_count": 55,
   "metadata": {},
   "outputs": [],
   "source": [
    "df_area51 = pd.read_csv(r\"C:\\Users\\Admin\\Desktop\\Data Craft\\UFO\\Projekt_UFO\\data\\data_clean\\ufo_sightings_scrubbed_clean.csv\")"
   ]
  },
  {
   "cell_type": "code",
   "execution_count": 56,
   "metadata": {},
   "outputs": [
    {
     "data": {
      "text/html": [
       "<div>\n",
       "<style scoped>\n",
       "    .dataframe tbody tr th:only-of-type {\n",
       "        vertical-align: middle;\n",
       "    }\n",
       "\n",
       "    .dataframe tbody tr th {\n",
       "        vertical-align: top;\n",
       "    }\n",
       "\n",
       "    .dataframe thead th {\n",
       "        text-align: right;\n",
       "    }\n",
       "</style>\n",
       "<table border=\"1\" class=\"dataframe\">\n",
       "  <thead>\n",
       "    <tr style=\"text-align: right;\">\n",
       "      <th></th>\n",
       "      <th>Unnamed: 0</th>\n",
       "      <th>datetime</th>\n",
       "      <th>city</th>\n",
       "      <th>state</th>\n",
       "      <th>country</th>\n",
       "      <th>shape</th>\n",
       "      <th>duration_seconds</th>\n",
       "      <th>duration_hour_min</th>\n",
       "      <th>comments</th>\n",
       "      <th>date_posted</th>\n",
       "      <th>latitude</th>\n",
       "      <th>longitude</th>\n",
       "    </tr>\n",
       "  </thead>\n",
       "  <tbody>\n",
       "    <tr>\n",
       "      <th>0</th>\n",
       "      <td>0</td>\n",
       "      <td>1949-10-10 20:30:00</td>\n",
       "      <td>san marcos</td>\n",
       "      <td>tx</td>\n",
       "      <td>us</td>\n",
       "      <td>cylinder</td>\n",
       "      <td>2700</td>\n",
       "      <td>45 minutes</td>\n",
       "      <td>This event took place in early fall around 194...</td>\n",
       "      <td>2004-04-27</td>\n",
       "      <td>29.883056</td>\n",
       "      <td>-97.941111</td>\n",
       "    </tr>\n",
       "    <tr>\n",
       "      <th>1</th>\n",
       "      <td>1</td>\n",
       "      <td>1949-10-10 21:00:00</td>\n",
       "      <td>lackland afb</td>\n",
       "      <td>tx</td>\n",
       "      <td>NaN</td>\n",
       "      <td>light</td>\n",
       "      <td>7200</td>\n",
       "      <td>1-2 hrs</td>\n",
       "      <td>1949 Lackland AFB&amp;#44 TX.  Lights racing acros...</td>\n",
       "      <td>2005-12-16</td>\n",
       "      <td>29.384210</td>\n",
       "      <td>-98.581082</td>\n",
       "    </tr>\n",
       "    <tr>\n",
       "      <th>2</th>\n",
       "      <td>2</td>\n",
       "      <td>1955-10-10 17:00:00</td>\n",
       "      <td>chester (uk/england)</td>\n",
       "      <td>NaN</td>\n",
       "      <td>gb</td>\n",
       "      <td>circle</td>\n",
       "      <td>20</td>\n",
       "      <td>20 seconds</td>\n",
       "      <td>Green/Orange circular disc over Chester&amp;#44 En...</td>\n",
       "      <td>2008-01-21</td>\n",
       "      <td>53.200000</td>\n",
       "      <td>-2.916667</td>\n",
       "    </tr>\n",
       "    <tr>\n",
       "      <th>3</th>\n",
       "      <td>3</td>\n",
       "      <td>1956-10-10 21:00:00</td>\n",
       "      <td>edna</td>\n",
       "      <td>tx</td>\n",
       "      <td>us</td>\n",
       "      <td>circle</td>\n",
       "      <td>20</td>\n",
       "      <td>1/2 hour</td>\n",
       "      <td>My older brother and twin sister were leaving ...</td>\n",
       "      <td>2004-01-17</td>\n",
       "      <td>28.978333</td>\n",
       "      <td>-96.645833</td>\n",
       "    </tr>\n",
       "    <tr>\n",
       "      <th>4</th>\n",
       "      <td>4</td>\n",
       "      <td>1960-10-10 20:00:00</td>\n",
       "      <td>kaneohe</td>\n",
       "      <td>hi</td>\n",
       "      <td>us</td>\n",
       "      <td>light</td>\n",
       "      <td>900</td>\n",
       "      <td>15 minutes</td>\n",
       "      <td>AS a Marine 1st Lt. flying an FJ4B fighter/att...</td>\n",
       "      <td>2004-01-22</td>\n",
       "      <td>21.418056</td>\n",
       "      <td>-157.803611</td>\n",
       "    </tr>\n",
       "  </tbody>\n",
       "</table>\n",
       "</div>"
      ],
      "text/plain": [
       "   Unnamed: 0             datetime                  city state country  \\\n",
       "0           0  1949-10-10 20:30:00            san marcos    tx      us   \n",
       "1           1  1949-10-10 21:00:00          lackland afb    tx     NaN   \n",
       "2           2  1955-10-10 17:00:00  chester (uk/england)   NaN      gb   \n",
       "3           3  1956-10-10 21:00:00                  edna    tx      us   \n",
       "4           4  1960-10-10 20:00:00               kaneohe    hi      us   \n",
       "\n",
       "      shape  duration_seconds duration_hour_min  \\\n",
       "0  cylinder              2700        45 minutes   \n",
       "1     light              7200           1-2 hrs   \n",
       "2    circle                20        20 seconds   \n",
       "3    circle                20          1/2 hour   \n",
       "4     light               900        15 minutes   \n",
       "\n",
       "                                            comments date_posted   latitude  \\\n",
       "0  This event took place in early fall around 194...  2004-04-27  29.883056   \n",
       "1  1949 Lackland AFB&#44 TX.  Lights racing acros...  2005-12-16  29.384210   \n",
       "2  Green/Orange circular disc over Chester&#44 En...  2008-01-21  53.200000   \n",
       "3  My older brother and twin sister were leaving ...  2004-01-17  28.978333   \n",
       "4  AS a Marine 1st Lt. flying an FJ4B fighter/att...  2004-01-22  21.418056   \n",
       "\n",
       "    longitude  \n",
       "0  -97.941111  \n",
       "1  -98.581082  \n",
       "2   -2.916667  \n",
       "3  -96.645833  \n",
       "4 -157.803611  "
      ]
     },
     "execution_count": 56,
     "metadata": {},
     "output_type": "execute_result"
    }
   ],
   "source": [
    "df_area51.head()"
   ]
  },
  {
   "cell_type": "code",
   "execution_count": 57,
   "metadata": {},
   "outputs": [
    {
     "data": {
      "text/plain": [
       "Index(['Unnamed: 0', 'datetime', 'city', 'state', 'country', 'shape',\n",
       "       'duration_seconds', 'duration_hour_min', 'comments', 'date_posted',\n",
       "       'latitude', 'longitude'],\n",
       "      dtype='object')"
      ]
     },
     "execution_count": 57,
     "metadata": {},
     "output_type": "execute_result"
    }
   ],
   "source": [
    "df_area51.columns"
   ]
  },
  {
   "cell_type": "code",
   "execution_count": 58,
   "metadata": {},
   "outputs": [
    {
     "name": "stdout",
     "output_type": "stream",
     "text": [
      "<class 'pandas.core.frame.DataFrame'>\n",
      "RangeIndex: 80332 entries, 0 to 80331\n",
      "Data columns (total 12 columns):\n",
      " #   Column             Non-Null Count  Dtype  \n",
      "---  ------             --------------  -----  \n",
      " 0   Unnamed: 0         80332 non-null  int64  \n",
      " 1   datetime           80332 non-null  object \n",
      " 2   city               80332 non-null  object \n",
      " 3   state              74535 non-null  object \n",
      " 4   country            70662 non-null  object \n",
      " 5   shape              78400 non-null  object \n",
      " 6   duration_seconds   80332 non-null  int64  \n",
      " 7   duration_hour_min  80332 non-null  object \n",
      " 8   comments           80317 non-null  object \n",
      " 9   date_posted        80332 non-null  object \n",
      " 10  latitude           80332 non-null  float64\n",
      " 11  longitude          80332 non-null  float64\n",
      "dtypes: float64(2), int64(2), object(8)\n",
      "memory usage: 7.4+ MB\n"
     ]
    }
   ],
   "source": [
    "df_area51.info()"
   ]
  },
  {
   "cell_type": "code",
   "execution_count": 59,
   "metadata": {},
   "outputs": [
    {
     "data": {
      "text/plain": [
       "Unnamed: 0              0\n",
       "datetime                0\n",
       "city                    0\n",
       "state                5797\n",
       "country              9670\n",
       "shape                1932\n",
       "duration_seconds        0\n",
       "duration_hour_min       0\n",
       "comments               15\n",
       "date_posted             0\n",
       "latitude                0\n",
       "longitude               0\n",
       "dtype: int64"
      ]
     },
     "execution_count": 59,
     "metadata": {},
     "output_type": "execute_result"
    }
   ],
   "source": [
    "df_area51.isnull().sum()"
   ]
  },
  {
   "cell_type": "code",
   "execution_count": null,
   "metadata": {},
   "outputs": [],
   "source": []
  },
  {
   "cell_type": "markdown",
   "metadata": {},
   "source": [
    "Area 51 liegt in Nevada, USA, nahe der Groom Lake Air Force Base .\n",
    "Die ungefähren Koordinaten von Area 51 sind:\n",
    "\n",
    "Wir filtern jetzt alle Sichtungen heraus, die innerhalb dieses Bereich sind\n",
    "Geocoder für Area 51\n"
   ]
  },
  {
   "cell_type": "code",
   "execution_count": 60,
   "metadata": {},
   "outputs": [
    {
     "name": "stdout",
     "output_type": "stream",
     "text": [
      "Breitengrad: 37.2360646, Längengrad: -115.812175\n"
     ]
    }
   ],
   "source": [
    "# pip install geopy\n",
    "# Importiere die Nominatim-Klasse aus der geopy.geocoders-Bibliothek.\n",
    "# Nominatim ist ein Geocoding-Service, der Adressen in geografische Koordinaten umwandelt.\n",
    "\n",
    "from geopy.geocoders import Nominatim\n",
    "\n",
    "# Erstelle ein Geolokalisierungsobjekt (geolokalisierer).\n",
    "# Der Parameter \"user_agent\" ist notwendig, da Nominatim diesen benötigt, um den Ursprung der Anfrage zu identifizieren.\n",
    "\n",
    "geolokalisierer = Nominatim(user_agent=\"ufo_sightings_analysis\")\n",
    "\n",
    "# Verwende die Methode \"geocode\", um die Adresse \"Area 51, Nevada, USA\" in geografische Koordinaten (Breitengrad und Längengrad) umzuwandeln.\n",
    "# Diese Methode sendet eine Anfrage an den Nominatim-Service.\n",
    "standort = geolokalisierer.geocode(\"Area 51, Nevada, USA\")\n",
    "\n",
    "# Überprüfe, ob der Standort gefunden wurde.\n",
    "if standort:\n",
    "    # Falls ein Standort gefunden wurde, gib den Breitengrad (latitude) und Längengrad (longitude) aus.\n",
    "    # f-Strings werden verwendet, um die Variablen direkt in den Ausgabestring einzubetten.\n",
    "    print(f\"Breitengrad: {standort.latitude}, Längengrad: {standort.longitude}\")\n",
    "else:\n",
    "    # Falls kein Standort gefunden wurde, informiere den Benutzer darüber.\n",
    "    print(\"Standort nicht gefunden.\")\n"
   ]
  },
  {
   "cell_type": "code",
   "execution_count": null,
   "metadata": {},
   "outputs": [],
   "source": []
  },
  {
   "cell_type": "code",
   "execution_count": 61,
   "metadata": {},
   "outputs": [
    {
     "name": "stdout",
     "output_type": "stream",
     "text": [
      "Anzahl der Sichtungen in der Nähe von Area 51: 4\n",
      "       Unnamed: 0             datetime               city state country  \\\n",
      "5057         5057  2004-10-28 20:25:00  area 51 (west of)    nv     NaN   \n",
      "13944       13944  1999-11-03 02:00:00            area 51    nv     NaN   \n",
      "14683       14683  1989-11-05 02:00:00         groom lake    nv     NaN   \n",
      "48985       48985  1992-06-15 18:00:00            area 51    nv     NaN   \n",
      "\n",
      "          shape  duration_seconds duration_hour_min  \\\n",
      "5057   fireball                10        10 seconds   \n",
      "13944    circle              3600        app 1 hour   \n",
      "14683       egg                12            12secs   \n",
      "48985      oval             43200           12 hrs.   \n",
      "\n",
      "                                                comments date_posted  \\\n",
      "5057          Two fire balls entering earths atmosphere.  2013-12-02   \n",
      "13944  My brother and I witnessed a bright pulsating ...  2000-02-16   \n",
      "14683  This is a little long&#44 so please hang in th...  1999-11-30   \n",
      "48985  4 adults video tape object over area 51 in Nev...  1998-03-07   \n",
      "\n",
      "        latitude   longitude  \n",
      "5057   37.252526 -115.800413  \n",
      "13944  37.252526 -115.800413  \n",
      "14683  37.276675 -115.798936  \n",
      "48985  37.252526 -115.800413  \n"
     ]
    }
   ],
   "source": [
    "#  Koordinaten von Area 51\n",
    "area51_lat = 37.2360646\n",
    "area51_lon = -115.812175\n",
    "\n",
    "\n",
    "radius = 0.05#entspricht 5 kilometer\n",
    "\n",
    "df_area51 = pd.read_csv(r\"C:\\Users\\Admin\\Desktop\\Data Craft\\UFO\\Projekt_UFO\\data\\data_clean\\ufo_sightings_scrubbed_clean.csv\")\n",
    "\n",
    "# Filtern der Sichtungen innerhalb des definierten Radius\n",
    "#In Pandas wird der &-Operator verwendet, um mehrere Bedingungen für das Filtern eines DataFrames zu kombinieren,\n",
    "#da er sicherstellt, dass beide Bedingungen gleichzeitig wahr sind, während ein Komma zu einem Fehler führen würde,\n",
    "#  weil es die Bedingungen als separate Argumente interpretiert\n",
    "df_area51 = df_area51[  # Verwende den richtigen DataFrame \"df_area51\"\n",
    "    (df_area51[\"latitude\"].astype(float) >= area51_lat - radius) & \n",
    "    (df_area51[\"latitude\"].astype(float) <= area51_lat + radius) & \n",
    "    (df_area51[\"longitude\"].astype(float) >= area51_lon - radius) & \n",
    "    (df_area51[\"longitude\"].astype(float) <= area51_lon + radius)\n",
    "]\n",
    "\n",
    "# Ergebnisse anzeigen\n",
    "print(f\"Anzahl der Sichtungen in der Nähe von Area 51: {len(df_area51)}\")\n",
    "print(df_area51.head())"
   ]
  },
  {
   "cell_type": "code",
   "execution_count": 62,
   "metadata": {},
   "outputs": [
    {
     "name": "stdout",
     "output_type": "stream",
     "text": [
      "Anzahl der Sichtungen in der Nähe von Area 51: 4\n",
      "       Unnamed: 0             datetime               city state country  \\\n",
      "5057         5057  2004-10-28 20:25:00  area 51 (west of)    nv     NaN   \n",
      "13944       13944  1999-11-03 02:00:00            area 51    nv     NaN   \n",
      "14683       14683  1989-11-05 02:00:00         groom lake    nv     NaN   \n",
      "48985       48985  1992-06-15 18:00:00            area 51    nv     NaN   \n",
      "\n",
      "          shape  duration_seconds duration_hour_min  \\\n",
      "5057   fireball                10        10 seconds   \n",
      "13944    circle              3600        app 1 hour   \n",
      "14683       egg                12            12secs   \n",
      "48985      oval             43200           12 hrs.   \n",
      "\n",
      "                                                comments date_posted  \\\n",
      "5057          Two fire balls entering earths atmosphere.  2013-12-02   \n",
      "13944  My brother and I witnessed a bright pulsating ...  2000-02-16   \n",
      "14683  This is a little long&#44 so please hang in th...  1999-11-30   \n",
      "48985  4 adults video tape object over area 51 in Nev...  1998-03-07   \n",
      "\n",
      "        latitude   longitude  \n",
      "5057   37.252526 -115.800413  \n",
      "13944  37.252526 -115.800413  \n",
      "14683  37.276675 -115.798936  \n",
      "48985  37.252526 -115.800413  \n"
     ]
    }
   ],
   "source": [
    "radius10 = 0.10\n",
    "df_area51 = df_area51[  # Verwende den richtigen DataFrame \"df_area51\"\n",
    "    (df_area51[\"latitude\"].astype(float) >= area51_lat - radius) & \n",
    "    (df_area51[\"latitude\"].astype(float) <= area51_lat + radius) & \n",
    "    (df_area51[\"longitude\"].astype(float) >= area51_lon - radius) & \n",
    "    (df_area51[\"longitude\"].astype(float) <= area51_lon + radius)\n",
    "]\n",
    "\n",
    "# Ergebnisse anzeigen\n",
    "print(f\"Anzahl der Sichtungen in der Nähe von Area 51: {len(df_area51)}\")\n",
    "print(df_area51.head())"
   ]
  },
  {
   "cell_type": "code",
   "execution_count": 63,
   "metadata": {},
   "outputs": [
    {
     "name": "stdout",
     "output_type": "stream",
     "text": [
      "Anzahl der Sichtungen in der Nähe von Area 51: 4\n",
      "       Unnamed: 0             datetime               city state country  \\\n",
      "5057         5057  2004-10-28 20:25:00  area 51 (west of)    nv     NaN   \n",
      "13944       13944  1999-11-03 02:00:00            area 51    nv     NaN   \n",
      "14683       14683  1989-11-05 02:00:00         groom lake    nv     NaN   \n",
      "48985       48985  1992-06-15 18:00:00            area 51    nv     NaN   \n",
      "\n",
      "          shape  duration_seconds duration_hour_min  \\\n",
      "5057   fireball                10        10 seconds   \n",
      "13944    circle              3600        app 1 hour   \n",
      "14683       egg                12            12secs   \n",
      "48985      oval             43200           12 hrs.   \n",
      "\n",
      "                                                comments date_posted  \\\n",
      "5057          Two fire balls entering earths atmosphere.  2013-12-02   \n",
      "13944  My brother and I witnessed a bright pulsating ...  2000-02-16   \n",
      "14683  This is a little long&#44 so please hang in th...  1999-11-30   \n",
      "48985  4 adults video tape object over area 51 in Nev...  1998-03-07   \n",
      "\n",
      "        latitude   longitude  \n",
      "5057   37.252526 -115.800413  \n",
      "13944  37.252526 -115.800413  \n",
      "14683  37.276675 -115.798936  \n",
      "48985  37.252526 -115.800413  \n"
     ]
    }
   ],
   "source": [
    "radius20 = 0.20\n",
    "df_area51 = df_area51[  # Verwende den richtigen DataFrame \"df_area51\"\n",
    "    (df_area51[\"latitude\"].astype(float) >= area51_lat - radius) & \n",
    "    (df_area51[\"latitude\"].astype(float) <= area51_lat + radius) & \n",
    "    (df_area51[\"longitude\"].astype(float) >= area51_lon - radius) & \n",
    "    (df_area51[\"longitude\"].astype(float) <= area51_lon + radius)\n",
    "]\n",
    "\n",
    "# Ergebnisse anzeigen\n",
    "print(f\"Anzahl der Sichtungen in der Nähe von Area 51: {len(df_area51)}\")\n",
    "print(df_area51.head())"
   ]
  },
  {
   "cell_type": "code",
   "execution_count": 64,
   "metadata": {},
   "outputs": [
    {
     "name": "stdout",
     "output_type": "stream",
     "text": [
      "Anzahl der Sichtungen in der Nähe von Area 51: 4\n",
      "       Unnamed: 0             datetime               city state country  \\\n",
      "5057         5057  2004-10-28 20:25:00  area 51 (west of)    nv     NaN   \n",
      "13944       13944  1999-11-03 02:00:00            area 51    nv     NaN   \n",
      "14683       14683  1989-11-05 02:00:00         groom lake    nv     NaN   \n",
      "48985       48985  1992-06-15 18:00:00            area 51    nv     NaN   \n",
      "\n",
      "          shape  duration_seconds duration_hour_min  \\\n",
      "5057   fireball                10        10 seconds   \n",
      "13944    circle              3600        app 1 hour   \n",
      "14683       egg                12            12secs   \n",
      "48985      oval             43200           12 hrs.   \n",
      "\n",
      "                                                comments date_posted  \\\n",
      "5057          Two fire balls entering earths atmosphere.  2013-12-02   \n",
      "13944  My brother and I witnessed a bright pulsating ...  2000-02-16   \n",
      "14683  This is a little long&#44 so please hang in th...  1999-11-30   \n",
      "48985  4 adults video tape object over area 51 in Nev...  1998-03-07   \n",
      "\n",
      "        latitude   longitude  \n",
      "5057   37.252526 -115.800413  \n",
      "13944  37.252526 -115.800413  \n",
      "14683  37.276675 -115.798936  \n",
      "48985  37.252526 -115.800413  \n"
     ]
    }
   ],
   "source": [
    "radius30 = 30\n",
    "df_area51 = df_area51[  # Verwende den richtigen DataFrame \"df_area51\"\n",
    "    (df_area51[\"latitude\"].astype(float) >= area51_lat - radius) & \n",
    "    (df_area51[\"latitude\"].astype(float) <= area51_lat + radius) & \n",
    "    (df_area51[\"longitude\"].astype(float) >= area51_lon - radius) & \n",
    "    (df_area51[\"longitude\"].astype(float) <= area51_lon + radius)\n",
    "]\n",
    "\n",
    "# Ergebnisse anzeigen\n",
    "print(f\"Anzahl der Sichtungen in der Nähe von Area 51: {len(df_area51)}\")\n",
    "print(df_area51.head())"
   ]
  },
  {
   "cell_type": "markdown",
   "metadata": {},
   "source": [
    "Sichtungen nach Tageszeit analysieren"
   ]
  },
  {
   "cell_type": "code",
   "execution_count": 65,
   "metadata": {},
   "outputs": [
    {
     "name": "stdout",
     "output_type": "stream",
     "text": [
      "5057    0 days 00:00:10\n",
      "13944   0 days 01:00:00\n",
      "14683   0 days 00:00:12\n",
      "48985   0 days 12:00:00\n",
      "Name: duration, dtype: timedelta64[ns]\n"
     ]
    }
   ],
   "source": [
    "# wandeln die 'duration_seconds' in ein timedelta-Objekt um\n",
    "df_area51[\"duration\"] = pd.to_timedelta(df_area51[\"duration_seconds\"], unit= \"s\")\n",
    "print(df_area51[\"duration\"].head())"
   ]
  },
  {
   "cell_type": "code",
   "execution_count": 66,
   "metadata": {},
   "outputs": [
    {
     "name": "stdout",
     "output_type": "stream",
     "text": [
      "       duration_seconds        duration  duration_hour\n",
      "5057                 10 0 days 00:00:10       0.002778\n",
      "13944              3600 0 days 01:00:00       1.000000\n",
      "14683                12 0 days 00:00:12       0.003333\n",
      "48985             43200 0 days 12:00:00      12.000000\n"
     ]
    }
   ],
   "source": [
    "df_area51[\"duration_hour\"] = df_area51[\"duration\"].dt.total_seconds() / 3600\n",
    "print(df_area51[[\"duration_seconds\", \"duration\", \"duration_hour\" ]].head())"
   ]
  },
  {
   "cell_type": "code",
   "execution_count": 71,
   "metadata": {},
   "outputs": [
    {
     "name": "stdout",
     "output_type": "stream",
     "text": [
      "                  datetime  duration_hour time_of_day\n",
      "5057   2004-10-28 20:25:00       0.002778       Nacht\n",
      "13944  1999-11-03 02:00:00       1.000000       Nacht\n",
      "14683  1989-11-05 02:00:00       0.003333       Nacht\n",
      "48985  1992-06-15 18:00:00      12.000000         Tag\n"
     ]
    }
   ],
   "source": [
    "\n",
    "df_area51[\"time_of_day\"] = df_area51[\"duration_hour\"].apply(lambda x: \"Tag\" if 6 <= x < 18 else \"Nacht\" )\n",
    "print(df_area51[[\"datetime\", \"duration_hour\", \"time_of_day\"]].head())"
   ]
  },
  {
   "cell_type": "code",
   "execution_count": 81,
   "metadata": {},
   "outputs": [
    {
     "data": {
      "text/html": [
       "<div>\n",
       "<style scoped>\n",
       "    .dataframe tbody tr th:only-of-type {\n",
       "        vertical-align: middle;\n",
       "    }\n",
       "\n",
       "    .dataframe tbody tr th {\n",
       "        vertical-align: top;\n",
       "    }\n",
       "\n",
       "    .dataframe thead th {\n",
       "        text-align: right;\n",
       "    }\n",
       "</style>\n",
       "<table border=\"1\" class=\"dataframe\">\n",
       "  <thead>\n",
       "    <tr style=\"text-align: right;\">\n",
       "      <th></th>\n",
       "      <th>Unnamed: 0</th>\n",
       "      <th>datetime</th>\n",
       "      <th>city</th>\n",
       "      <th>state</th>\n",
       "      <th>country</th>\n",
       "      <th>shape</th>\n",
       "      <th>duration_seconds</th>\n",
       "      <th>duration_hour_min</th>\n",
       "      <th>comments</th>\n",
       "      <th>date_posted</th>\n",
       "      <th>latitude</th>\n",
       "      <th>longitude</th>\n",
       "      <th>duration</th>\n",
       "      <th>duration_hour</th>\n",
       "      <th>time_of_day</th>\n",
       "      <th>duration_category</th>\n",
       "      <th>hour</th>\n",
       "    </tr>\n",
       "  </thead>\n",
       "  <tbody>\n",
       "    <tr>\n",
       "      <th>5057</th>\n",
       "      <td>5057</td>\n",
       "      <td>2004-10-28 20:25:00</td>\n",
       "      <td>area 51 (west of)</td>\n",
       "      <td>nv</td>\n",
       "      <td>NaN</td>\n",
       "      <td>fireball</td>\n",
       "      <td>10</td>\n",
       "      <td>10 seconds</td>\n",
       "      <td>Two fire balls entering earths atmosphere.</td>\n",
       "      <td>2013-12-02</td>\n",
       "      <td>37.252526</td>\n",
       "      <td>-115.800413</td>\n",
       "      <td>0 days 00:00:10</td>\n",
       "      <td>0.002778</td>\n",
       "      <td>Nacht</td>\n",
       "      <td>Kurz</td>\n",
       "      <td>20</td>\n",
       "    </tr>\n",
       "    <tr>\n",
       "      <th>13944</th>\n",
       "      <td>13944</td>\n",
       "      <td>1999-11-03 02:00:00</td>\n",
       "      <td>area 51</td>\n",
       "      <td>nv</td>\n",
       "      <td>NaN</td>\n",
       "      <td>circle</td>\n",
       "      <td>3600</td>\n",
       "      <td>app 1 hour</td>\n",
       "      <td>My brother and I witnessed a bright pulsating ...</td>\n",
       "      <td>2000-02-16</td>\n",
       "      <td>37.252526</td>\n",
       "      <td>-115.800413</td>\n",
       "      <td>0 days 01:00:00</td>\n",
       "      <td>1.000000</td>\n",
       "      <td>Nacht</td>\n",
       "      <td>Lang</td>\n",
       "      <td>2</td>\n",
       "    </tr>\n",
       "    <tr>\n",
       "      <th>14683</th>\n",
       "      <td>14683</td>\n",
       "      <td>1989-11-05 02:00:00</td>\n",
       "      <td>groom lake</td>\n",
       "      <td>nv</td>\n",
       "      <td>NaN</td>\n",
       "      <td>egg</td>\n",
       "      <td>12</td>\n",
       "      <td>12secs</td>\n",
       "      <td>This is a little long&amp;#44 so please hang in th...</td>\n",
       "      <td>1999-11-30</td>\n",
       "      <td>37.276675</td>\n",
       "      <td>-115.798936</td>\n",
       "      <td>0 days 00:00:12</td>\n",
       "      <td>0.003333</td>\n",
       "      <td>Nacht</td>\n",
       "      <td>Kurz</td>\n",
       "      <td>2</td>\n",
       "    </tr>\n",
       "    <tr>\n",
       "      <th>48985</th>\n",
       "      <td>48985</td>\n",
       "      <td>1992-06-15 18:00:00</td>\n",
       "      <td>area 51</td>\n",
       "      <td>nv</td>\n",
       "      <td>NaN</td>\n",
       "      <td>oval</td>\n",
       "      <td>43200</td>\n",
       "      <td>12 hrs.</td>\n",
       "      <td>4 adults video tape object over area 51 in Nev...</td>\n",
       "      <td>1998-03-07</td>\n",
       "      <td>37.252526</td>\n",
       "      <td>-115.800413</td>\n",
       "      <td>0 days 12:00:00</td>\n",
       "      <td>12.000000</td>\n",
       "      <td>Nacht</td>\n",
       "      <td>Lang</td>\n",
       "      <td>18</td>\n",
       "    </tr>\n",
       "  </tbody>\n",
       "</table>\n",
       "</div>"
      ],
      "text/plain": [
       "       Unnamed: 0            datetime               city state country  \\\n",
       "5057         5057 2004-10-28 20:25:00  area 51 (west of)    nv     NaN   \n",
       "13944       13944 1999-11-03 02:00:00            area 51    nv     NaN   \n",
       "14683       14683 1989-11-05 02:00:00         groom lake    nv     NaN   \n",
       "48985       48985 1992-06-15 18:00:00            area 51    nv     NaN   \n",
       "\n",
       "          shape  duration_seconds duration_hour_min  \\\n",
       "5057   fireball                10        10 seconds   \n",
       "13944    circle              3600        app 1 hour   \n",
       "14683       egg                12            12secs   \n",
       "48985      oval             43200           12 hrs.   \n",
       "\n",
       "                                                comments date_posted  \\\n",
       "5057          Two fire balls entering earths atmosphere.  2013-12-02   \n",
       "13944  My brother and I witnessed a bright pulsating ...  2000-02-16   \n",
       "14683  This is a little long&#44 so please hang in th...  1999-11-30   \n",
       "48985  4 adults video tape object over area 51 in Nev...  1998-03-07   \n",
       "\n",
       "        latitude   longitude        duration  duration_hour time_of_day  \\\n",
       "5057   37.252526 -115.800413 0 days 00:00:10       0.002778       Nacht   \n",
       "13944  37.252526 -115.800413 0 days 01:00:00       1.000000       Nacht   \n",
       "14683  37.276675 -115.798936 0 days 00:00:12       0.003333       Nacht   \n",
       "48985  37.252526 -115.800413 0 days 12:00:00      12.000000       Nacht   \n",
       "\n",
       "      duration_category  hour  \n",
       "5057               Kurz    20  \n",
       "13944              Lang     2  \n",
       "14683              Kurz     2  \n",
       "48985              Lang    18  "
      ]
     },
     "execution_count": 81,
     "metadata": {},
     "output_type": "execute_result"
    }
   ],
   "source": [
    "df_area51"
   ]
  },
  {
   "cell_type": "code",
   "execution_count": null,
   "metadata": {},
   "outputs": [
    {
     "name": "stdout",
     "output_type": "stream",
     "text": [
      "                 datetime  hour time_of_day\n",
      "5057  2004-10-28 20:25:00    20       Nacht\n",
      "13944 1999-11-03 02:00:00     2       Nacht\n",
      "14683 1989-11-05 02:00:00     2       Nacht\n",
      "48985 1992-06-15 18:00:00    18       Nacht\n"
     ]
    },
    {
     "name": "stderr",
     "output_type": "stream",
     "text": [
      "C:\\Users\\Admin\\AppData\\Local\\Temp\\ipykernel_6288\\3591551528.py:2: FutureWarning: errors='ignore' is deprecated and will raise in a future version. Use to_datetime without passing `errors` and catch exceptions explicitly instead\n",
      "  df_area51['datetime'] = pd.to_datetime(df_area51['datetime'], errors='ignore')\n"
     ]
    }
   ],
   "source": [
    "# Stelle sicher, dass 'datetime' ein DateTime-Objekt ist\n",
    "df_area51['datetime'] = pd.to_datetime(df_area51['datetime'], errors='ignore')\n",
    "\n",
    "# Extrahiere die Stunde der Sichtung\n",
    "df_area51['hour'] = df_area51['datetime'].dt.hour\n",
    "\n",
    "# Weise die Tageszeit basierend auf der Sichtungsstunde zu\n",
    "df_area51[\"time_of_day\"] = df_area51[\"hour\"].apply(lambda x: \"Tag\" if 6 <= x < 18 else \"Nacht\")\n",
    "\n",
    "# Überprüfe das Ergebnis\n",
    "print(df_area51[[\"datetime\", \"duration_seconds\" ,\"time_of_day\"]].head())\n"
   ]
  },
  {
   "cell_type": "code",
   "execution_count": null,
   "metadata": {},
   "outputs": [],
   "source": []
  },
  {
   "cell_type": "code",
   "execution_count": null,
   "metadata": {},
   "outputs": [],
   "source": []
  }
 ],
 "metadata": {
  "kernelspec": {
   "display_name": "Python 3",
   "language": "python",
   "name": "python3"
  },
  "language_info": {
   "codemirror_mode": {
    "name": "ipython",
    "version": 3
   },
   "file_extension": ".py",
   "mimetype": "text/x-python",
   "name": "python",
   "nbconvert_exporter": "python",
   "pygments_lexer": "ipython3",
   "version": "3.13.1"
  }
 },
 "nbformat": 4,
 "nbformat_minor": 2
}
