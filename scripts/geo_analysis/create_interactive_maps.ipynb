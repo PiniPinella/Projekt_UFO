{
 "cells": [
  {
   "cell_type": "code",
   "execution_count": 21,
   "metadata": {},
   "outputs": [],
   "source": [
    "import os\n",
    "import sys\n",
    "\n",
    "ROOT_DIR = os.path.abspath(os.path.join(os.getcwd(), \"..\", \"..\")) \n",
    "\n",
    "sys.path.append(ROOT_DIR)\n",
    "\n",
    "from functions import create_map\n",
    "from functions import ufo_df_loader\n",
    "\n",
    "path_to_data_map = os.path.join(ROOT_DIR, \"data\", \"data_map\")\n",
    "path_to_data_clean_read = os.path.join(ROOT_DIR, \"data\", \"data_clean\", \"ufo_sightings_scrubbed_clean.csv\")\n",
    "\n",
    "ufo_df = ufo_df_loader.load_ufo_df(path_to_data_clean_read)\n",
    "\n",
    "# Leoniden 16./17. Nov 1999 Cluster Map\n",
    "create_map.create_cluster_heat_map(ufo_df, \n",
    "                                   filename   = \"Leoniden_1617_11_1999_Cluster\", \n",
    "                                   main_dir   = ROOT_DIR, \n",
    "                                   start_date = \"1999-11-16\", \n",
    "                                   end_date   = \"1999-11-17\", \n",
    "                                   map_type   = \"cluster\"\n",
    "                                  )\n",
    "\n",
    "# Leoniden 16./17. Nov 1999 Heat Map\n",
    "create_map.create_cluster_heat_map(ufo_df, \n",
    "                                   filename   = \"Leoniden_1617_11_1999_Heat\", \n",
    "                                   main_dir   = ROOT_DIR, \n",
    "                                   start_date = \"1999-11-16\", \n",
    "                                   end_date   = \"1999-11-17\", \n",
    "                                   map_type   = \"heat\"\n",
    "                                  )\n",
    "\n",
    "# Independence Day 04. Jul 2010\n",
    "create_map.create_cluster_heat_map(ufo_df, \n",
    "                                   filename   = \"Independence_Day_04_07_2010_cluster\", \n",
    "                                   main_dir   = ROOT_DIR, \n",
    "                                   start_date = \"2010-07-04\", \n",
    "                                   end_date   = \"2010-07-04\", \n",
    "                                   map_type   = \"cluster\"\n",
    "                                  )"
   ]
  }
 ],
 "metadata": {
  "kernelspec": {
   "display_name": "Python 3",
   "language": "python",
   "name": "python3"
  },
  "language_info": {
   "codemirror_mode": {
    "name": "ipython",
    "version": 3
   },
   "file_extension": ".py",
   "mimetype": "text/x-python",
   "name": "python",
   "nbconvert_exporter": "python",
   "pygments_lexer": "ipython3",
   "version": "3.13.1"
  }
 },
 "nbformat": 4,
 "nbformat_minor": 2
}
