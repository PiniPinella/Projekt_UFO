{
 "cells": [
  {
   "cell_type": "code",
   "execution_count": null,
   "metadata": {},
   "outputs": [
    {
     "name": "stdout",
     "output_type": "stream",
     "text": [
      "words\n",
      "light        16298\n",
      "formation     2625\n",
      "triangle      2339\n",
      "fireball      1693\n",
      "round         1530\n",
      "sphere        1432\n",
      "other         1375\n",
      "oval          1167\n",
      "changing       916\n",
      "flash          864\n",
      "circle         856\n",
      "disk           850\n",
      "cigar          804\n",
      "changed        800\n",
      "diamond        478\n",
      "cylinder       350\n",
      "egg            258\n",
      "unknown        214\n",
      "chevron        202\n",
      "rectangle      193\n",
      "cross          180\n",
      "teardrop       169\n",
      "cone           146\n",
      "flare          142\n",
      "dome           107\n",
      "crescent        65\n",
      "delta           43\n",
      "pyramid         32\n",
      "hexagon          9\n",
      "Name: count, dtype: int64\n"
     ]
    }
   ],
   "source": [
    "import pandas as pd\n",
    "import os\n",
    "\n",
    "path = r\"C:\\Users\\Patrick\\My Drive\\07 Python Datenverarbeitung\\Projekt_UFO\\data\\data_clean\\ufo_sightings_scrubbed_clean.csv\"\n",
    "path_rel = r\"Projekt_UFO\\data\\data_clean\\ufo_sightings_scrubbed_clean.csv\"\n",
    "ufo_df = pd.read_csv(path)\n",
    "\n",
    "comments_df          = ufo_df[\"comments\"]\n",
    "words                = comments_df.str.findall(r\"\\b\\w+\\b\")\n",
    "word_series          = pd.Series(words.explode(), name = \"words\")\n",
    "word_value_counts_df = word_series.value_counts()\n",
    "\n",
    "shape_types  = ufo_df[\"shape\"].unique()\n",
    "shape_counts = word_value_counts_df[word_value_counts_df.index.isin(shape_types)]\n",
    "print(shape_counts)"
   ]
  },
  {
   "cell_type": "code",
   "execution_count": 3,
   "metadata": {},
   "outputs": [
    {
     "name": "stdout",
     "output_type": "stream",
     "text": [
      "words\n",
      "light        20.29\n",
      "formation     3.27\n",
      "triangle      2.91\n",
      "fireball      2.11\n",
      "round         1.90\n",
      "sphere        1.78\n",
      "other         1.71\n",
      "oval          1.45\n",
      "changing      1.14\n",
      "flash         1.08\n",
      "circle        1.07\n",
      "disk          1.06\n",
      "cigar         1.00\n",
      "changed       1.00\n",
      "diamond       0.60\n",
      "cylinder      0.44\n",
      "egg           0.32\n",
      "unknown       0.27\n",
      "chevron       0.25\n",
      "rectangle     0.24\n",
      "cross         0.22\n",
      "teardrop      0.21\n",
      "cone          0.18\n",
      "flare         0.18\n",
      "dome          0.13\n",
      "crescent      0.08\n",
      "delta         0.05\n",
      "pyramid       0.04\n",
      "hexagon       0.01\n",
      "Name: count, dtype: float64\n"
     ]
    }
   ],
   "source": [
    "shape_percente = round(shape_counts / len(ufo_sightings_df) * 100, 2)\n",
    "print(shape_percente)"
   ]
  }
 ],
 "metadata": {
  "kernelspec": {
   "display_name": "Python 3",
   "language": "python",
   "name": "python3"
  },
  "language_info": {
   "codemirror_mode": {
    "name": "ipython",
    "version": 3
   },
   "file_extension": ".py",
   "mimetype": "text/x-python",
   "name": "python",
   "nbconvert_exporter": "python",
   "pygments_lexer": "ipython3",
   "version": "3.13.1"
  }
 },
 "nbformat": 4,
 "nbformat_minor": 2
}
