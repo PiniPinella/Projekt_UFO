{
 "cells": [
  {
   "cell_type": "markdown",
   "metadata": {},
   "source": [
    "Vorgehensweise für das Area 51-Special\n",
    "\n",
    "Den Datensatz einlesen\n",
    "\n",
    "Wir laden den UFO-Datensatz mit Pandas.\n",
    "\n",
    "Prüfen die Spalten und Datenstruktur, um sicherzustellen, dass die relevanten Informationen enthalten sind.\n",
    "\n",
    "Area 51-Koordinaten bestimmen\n",
    "\n",
    "Area 51 liegt in Nevada, USA. Wir brauchen den genauen geografischen Bereich (Longitude & Latitude).\n",
    "\n",
    "Daten filtern\n",
    "\n",
    "Wir filtern nur Sichtungen, die innerhalb des Koordinatenbereichs von Area 51 liegen.\n",
    "\n",
    "Analysen durchführen\n",
    "\n",
    "Anzahl der Sichtungen berechnen.\n",
    "\n",
    "Tageszeit der Sichtungen analysieren.\n",
    "\n",
    "Formen der Objekte auswerten.\n",
    "\n",
    "Trends visualisieren (z. B. Histogramm für die Tageszeiten).\n",
    "\n",
    "Ergebnisse visualisieren\n",
    "\n",
    "Diagramme erstellen (z. B. Barplot, Lineplot oder Scatterplot)"
   ]
  },
  {
   "cell_type": "code",
   "execution_count": 4,
   "metadata": {},
   "outputs": [],
   "source": [
    "import pandas as pd\n",
    "import sys\n",
    "import os"
   ]
  },
  {
   "cell_type": "code",
   "execution_count": 5,
   "metadata": {},
   "outputs": [],
   "source": [
    "df_area51 = pd.read_csv(r\"C:\\Users\\Admin\\Desktop\\Data Craft\\Projekt_UFO\\data\\data_clean\\ufo_sightings_scrubbed_clean.csv\")"
   ]
  },
  {
   "cell_type": "code",
   "execution_count": 6,
   "metadata": {},
   "outputs": [
    {
     "data": {
      "text/html": [
       "<div>\n",
       "<style scoped>\n",
       "    .dataframe tbody tr th:only-of-type {\n",
       "        vertical-align: middle;\n",
       "    }\n",
       "\n",
       "    .dataframe tbody tr th {\n",
       "        vertical-align: top;\n",
       "    }\n",
       "\n",
       "    .dataframe thead th {\n",
       "        text-align: right;\n",
       "    }\n",
       "</style>\n",
       "<table border=\"1\" class=\"dataframe\">\n",
       "  <thead>\n",
       "    <tr style=\"text-align: right;\">\n",
       "      <th></th>\n",
       "      <th>datetime</th>\n",
       "      <th>city</th>\n",
       "      <th>state</th>\n",
       "      <th>country</th>\n",
       "      <th>shape</th>\n",
       "      <th>duration_seconds</th>\n",
       "      <th>duration_hour_min</th>\n",
       "      <th>comments</th>\n",
       "      <th>date_posted</th>\n",
       "      <th>latitude</th>\n",
       "      <th>longitude</th>\n",
       "    </tr>\n",
       "  </thead>\n",
       "  <tbody>\n",
       "    <tr>\n",
       "      <th>0</th>\n",
       "      <td>1949-10-10 20:30:00</td>\n",
       "      <td>san marcos</td>\n",
       "      <td>tx</td>\n",
       "      <td>us</td>\n",
       "      <td>cylinder</td>\n",
       "      <td>2700</td>\n",
       "      <td>45 minutes</td>\n",
       "      <td>This event took place in early fall around 194...</td>\n",
       "      <td>2004-04-27</td>\n",
       "      <td>29.883056</td>\n",
       "      <td>-97.941111</td>\n",
       "    </tr>\n",
       "    <tr>\n",
       "      <th>1</th>\n",
       "      <td>1949-10-10 21:00:00</td>\n",
       "      <td>lackland afb</td>\n",
       "      <td>tx</td>\n",
       "      <td>NaN</td>\n",
       "      <td>light</td>\n",
       "      <td>7200</td>\n",
       "      <td>1-2 hrs</td>\n",
       "      <td>1949 Lackland AFB, TX.  Lights racing across t...</td>\n",
       "      <td>2005-12-16</td>\n",
       "      <td>29.384210</td>\n",
       "      <td>-98.581082</td>\n",
       "    </tr>\n",
       "    <tr>\n",
       "      <th>2</th>\n",
       "      <td>1955-10-10 17:00:00</td>\n",
       "      <td>chester (uk/england)</td>\n",
       "      <td>NaN</td>\n",
       "      <td>gb</td>\n",
       "      <td>circle</td>\n",
       "      <td>20</td>\n",
       "      <td>20 seconds</td>\n",
       "      <td>Green/Orange circular disc over Chester, England</td>\n",
       "      <td>2008-01-21</td>\n",
       "      <td>53.200000</td>\n",
       "      <td>-2.916667</td>\n",
       "    </tr>\n",
       "    <tr>\n",
       "      <th>3</th>\n",
       "      <td>1956-10-10 21:00:00</td>\n",
       "      <td>edna</td>\n",
       "      <td>tx</td>\n",
       "      <td>us</td>\n",
       "      <td>circle</td>\n",
       "      <td>20</td>\n",
       "      <td>1/2 hour</td>\n",
       "      <td>My older brother and twin sister were leaving ...</td>\n",
       "      <td>2004-01-17</td>\n",
       "      <td>28.978333</td>\n",
       "      <td>-96.645833</td>\n",
       "    </tr>\n",
       "    <tr>\n",
       "      <th>4</th>\n",
       "      <td>1960-10-10 20:00:00</td>\n",
       "      <td>kaneohe</td>\n",
       "      <td>hi</td>\n",
       "      <td>us</td>\n",
       "      <td>light</td>\n",
       "      <td>900</td>\n",
       "      <td>15 minutes</td>\n",
       "      <td>AS a Marine 1st Lt. flying an FJ4B fighter/att...</td>\n",
       "      <td>2004-01-22</td>\n",
       "      <td>21.418056</td>\n",
       "      <td>-157.803611</td>\n",
       "    </tr>\n",
       "  </tbody>\n",
       "</table>\n",
       "</div>"
      ],
      "text/plain": [
       "              datetime                  city state country     shape  \\\n",
       "0  1949-10-10 20:30:00            san marcos    tx      us  cylinder   \n",
       "1  1949-10-10 21:00:00          lackland afb    tx     NaN     light   \n",
       "2  1955-10-10 17:00:00  chester (uk/england)   NaN      gb    circle   \n",
       "3  1956-10-10 21:00:00                  edna    tx      us    circle   \n",
       "4  1960-10-10 20:00:00               kaneohe    hi      us     light   \n",
       "\n",
       "   duration_seconds duration_hour_min  \\\n",
       "0              2700        45 minutes   \n",
       "1              7200           1-2 hrs   \n",
       "2                20        20 seconds   \n",
       "3                20          1/2 hour   \n",
       "4               900        15 minutes   \n",
       "\n",
       "                                            comments date_posted   latitude  \\\n",
       "0  This event took place in early fall around 194...  2004-04-27  29.883056   \n",
       "1  1949 Lackland AFB, TX.  Lights racing across t...  2005-12-16  29.384210   \n",
       "2   Green/Orange circular disc over Chester, England  2008-01-21  53.200000   \n",
       "3  My older brother and twin sister were leaving ...  2004-01-17  28.978333   \n",
       "4  AS a Marine 1st Lt. flying an FJ4B fighter/att...  2004-01-22  21.418056   \n",
       "\n",
       "    longitude  \n",
       "0  -97.941111  \n",
       "1  -98.581082  \n",
       "2   -2.916667  \n",
       "3  -96.645833  \n",
       "4 -157.803611  "
      ]
     },
     "execution_count": 6,
     "metadata": {},
     "output_type": "execute_result"
    }
   ],
   "source": [
    "df_area51.head()"
   ]
  },
  {
   "cell_type": "code",
   "execution_count": 7,
   "metadata": {},
   "outputs": [
    {
     "data": {
      "text/plain": [
       "Index(['datetime', 'city', 'state', 'country', 'shape', 'duration_seconds',\n",
       "       'duration_hour_min', 'comments', 'date_posted', 'latitude',\n",
       "       'longitude'],\n",
       "      dtype='object')"
      ]
     },
     "execution_count": 7,
     "metadata": {},
     "output_type": "execute_result"
    }
   ],
   "source": [
    "df_area51.columns"
   ]
  },
  {
   "cell_type": "code",
   "execution_count": 8,
   "metadata": {},
   "outputs": [
    {
     "name": "stdout",
     "output_type": "stream",
     "text": [
      "<class 'pandas.core.frame.DataFrame'>\n",
      "RangeIndex: 80332 entries, 0 to 80331\n",
      "Data columns (total 11 columns):\n",
      " #   Column             Non-Null Count  Dtype  \n",
      "---  ------             --------------  -----  \n",
      " 0   datetime           80332 non-null  object \n",
      " 1   city               80332 non-null  object \n",
      " 2   state              74535 non-null  object \n",
      " 3   country            70662 non-null  object \n",
      " 4   shape              78400 non-null  object \n",
      " 5   duration_seconds   80332 non-null  int64  \n",
      " 6   duration_hour_min  80332 non-null  object \n",
      " 7   comments           80317 non-null  object \n",
      " 8   date_posted        80332 non-null  object \n",
      " 9   latitude           80332 non-null  float64\n",
      " 10  longitude          80332 non-null  float64\n",
      "dtypes: float64(2), int64(1), object(8)\n",
      "memory usage: 6.7+ MB\n"
     ]
    }
   ],
   "source": [
    "df_area51.info()"
   ]
  },
  {
   "cell_type": "code",
   "execution_count": 9,
   "metadata": {},
   "outputs": [
    {
     "data": {
      "text/plain": [
       "datetime                0\n",
       "city                    0\n",
       "state                5797\n",
       "country              9670\n",
       "shape                1932\n",
       "duration_seconds        0\n",
       "duration_hour_min       0\n",
       "comments               15\n",
       "date_posted             0\n",
       "latitude                0\n",
       "longitude               0\n",
       "dtype: int64"
      ]
     },
     "execution_count": 9,
     "metadata": {},
     "output_type": "execute_result"
    }
   ],
   "source": [
    "df_area51.isnull().sum()"
   ]
  },
  {
   "cell_type": "code",
   "execution_count": null,
   "metadata": {},
   "outputs": [],
   "source": []
  },
  {
   "cell_type": "markdown",
   "metadata": {},
   "source": [
    "Area 51 liegt in Nevada, USA, nahe der Groom Lake Air Force Base .\n",
    "Die ungefähren Koordinaten von Area 51 sind:\n",
    "\n",
    "Wir filtern jetzt alle Sichtungen heraus, die innerhalb dieses Bereich sind\n",
    "Geocoder für Area 51\n"
   ]
  },
  {
   "cell_type": "code",
   "execution_count": 10,
   "metadata": {},
   "outputs": [
    {
     "name": "stdout",
     "output_type": "stream",
     "text": [
      "Breitengrad: 37.2360646, Längengrad: -115.812175\n"
     ]
    }
   ],
   "source": [
    "# pip install geopy\n",
    "# Importiere die Nominatim-Klasse aus der geopy.geocoders-Bibliothek.\n",
    "# Nominatim ist ein Geocoding-Service, der Adressen in geografische Koordinaten umwandelt\n",
    "\n",
    "from geopy.geocoders import Nominatim\n",
    "\n",
    "# Erstell ein Geolokalisierungsobjekt (geolokalisierer).\n",
    "# Der Parameter \"user_agent\" ist notwendig, da Nominatim diesen benötigt, um den Ursprung der Anfrage zu identifizieren\n",
    "\n",
    "geolokalisierer = Nominatim(user_agent=\"ufo_sightings_analysis\")\n",
    "\n",
    "# Verwende die Methode \"geocode\", um die Adresse \"Area 51, Nevada, USA\" in geografische Koordinaten (Breitengrad und Längengrad) umzuwandeln\n",
    "# Diese Methode sendet eine Anfrage an den Nominatim-Service\n",
    "standort = geolokalisierer.geocode(\"Area 51, Nevada, USA\")\n",
    "\n",
    "# Überprüfe, ob der Standort gefunden \n",
    "if standort:\n",
    "    # Falls ein Standort gefunden wurde, gib den Breitengrad (latitude) und Längengrad (longitude) aus\n",
    "    # f-Strings werden verwendet, um die Variablen direkt in den Ausgabestring einzubetten\n",
    "    print(f\"Breitengrad: {standort.latitude}, Längengrad: {standort.longitude}\")\n",
    "else:\n",
    "    # Falls kein Standort gefunden wurde, informiere den Benutzer darüber.\n",
    "    print(\"Standort nicht gefunden.\")\n"
   ]
  },
  {
   "cell_type": "code",
   "execution_count": null,
   "metadata": {},
   "outputs": [],
   "source": []
  },
  {
   "cell_type": "code",
   "execution_count": 11,
   "metadata": {},
   "outputs": [
    {
     "name": "stdout",
     "output_type": "stream",
     "text": [
      "Anzahl der Sichtungen in der Nähe von Area 51: 4\n",
      "                  datetime               city state country     shape  \\\n",
      "5057   2004-10-28 20:25:00  area 51 (west of)    nv     NaN  fireball   \n",
      "13944  1999-11-03 02:00:00            area 51    nv     NaN    circle   \n",
      "14683  1989-11-05 02:00:00         groom lake    nv     NaN       egg   \n",
      "48985  1992-06-15 18:00:00            area 51    nv     NaN      oval   \n",
      "\n",
      "       duration_seconds duration_hour_min  \\\n",
      "5057                 10        10 seconds   \n",
      "13944              3600        app 1 hour   \n",
      "14683                12            12secs   \n",
      "48985             43200           12 hrs.   \n",
      "\n",
      "                                                comments date_posted  \\\n",
      "5057          Two fire balls entering earths atmosphere.  2013-12-02   \n",
      "13944  My brother and I witnessed a bright pulsating ...  2000-02-16   \n",
      "14683  This is a little long, so please hang in there...  1999-11-30   \n",
      "48985  4 adults video tape object over area 51 in Nev...  1998-03-07   \n",
      "\n",
      "        latitude   longitude  \n",
      "5057   37.252526 -115.800413  \n",
      "13944  37.252526 -115.800413  \n",
      "14683  37.276675 -115.798936  \n",
      "48985  37.252526 -115.800413  \n"
     ]
    }
   ],
   "source": [
    "#  Koordinaten von Area 51\n",
    "area51_lat = 37.2360646\n",
    "area51_lon = -115.812175\n",
    "\n",
    "\n",
    "radius = 0.30 #entspricht 30 kilometer\n",
    "\n",
    "\n",
    "# Filtern der Sichtungen innerhalb des definierten Radius\n",
    "#In Pandas wird der &-Operator verwendet, um mehrere Bedingungen für das Filtern eines DataFrames zu kombinieren,\n",
    "#da er sicherstellt, dass beide Bedingungen gleichzeitig wahr sind, während ein Komma zu einem Fehler führen würde,\n",
    "#  weil es die Bedingungen als separate Argumente interpretiert\n",
    "df_area51 = df_area51[  # Verwende den richtigen DataFrame \"df_area51\"\n",
    "    (df_area51[\"latitude\"].astype(float) >= area51_lat - radius) & \n",
    "    (df_area51[\"latitude\"].astype(float) <= area51_lat + radius) & \n",
    "    (df_area51[\"longitude\"].astype(float) >= area51_lon - radius) & \n",
    "    (df_area51[\"longitude\"].astype(float) <= area51_lon + radius)\n",
    "]\n",
    "\n",
    "# Ergebnisse anzeigen\n",
    "print(f\"Anzahl der Sichtungen in der Nähe von Area 51: {len(df_area51)}\")\n",
    "print(df_area51.head())"
   ]
  },
  {
   "cell_type": "code",
   "execution_count": 12,
   "metadata": {},
   "outputs": [
    {
     "name": "stdout",
     "output_type": "stream",
     "text": [
      "Anzahl der Sichtungen in der Nähe von Area 51: 4\n",
      "                  datetime               city state country     shape  \\\n",
      "5057   2004-10-28 20:25:00  area 51 (west of)    nv     NaN  fireball   \n",
      "13944  1999-11-03 02:00:00            area 51    nv     NaN    circle   \n",
      "14683  1989-11-05 02:00:00         groom lake    nv     NaN       egg   \n",
      "48985  1992-06-15 18:00:00            area 51    nv     NaN      oval   \n",
      "\n",
      "       duration_seconds duration_hour_min  \\\n",
      "5057                 10        10 seconds   \n",
      "13944              3600        app 1 hour   \n",
      "14683                12            12secs   \n",
      "48985             43200           12 hrs.   \n",
      "\n",
      "                                                comments date_posted  \\\n",
      "5057          Two fire balls entering earths atmosphere.  2013-12-02   \n",
      "13944  My brother and I witnessed a bright pulsating ...  2000-02-16   \n",
      "14683  This is a little long, so please hang in there...  1999-11-30   \n",
      "48985  4 adults video tape object over area 51 in Nev...  1998-03-07   \n",
      "\n",
      "        latitude   longitude  \n",
      "5057   37.252526 -115.800413  \n",
      "13944  37.252526 -115.800413  \n",
      "14683  37.276675 -115.798936  \n",
      "48985  37.252526 -115.800413  \n"
     ]
    }
   ],
   "source": [
    "area51_lat = 37.2360646\n",
    "area51_lon = -115.812175\n",
    "\n",
    "radius10 = 0.10\n",
    "df_area51 = df_area51[  \n",
    "    (df_area51[\"latitude\"].astype(float) >= area51_lat - radius10) & \n",
    "    (df_area51[\"latitude\"].astype(float) <= area51_lat + radius10) & \n",
    "    (df_area51[\"longitude\"].astype(float) >= area51_lon - radius10) & \n",
    "    (df_area51[\"longitude\"].astype(float) <= area51_lon + radius10)\n",
    "]\n",
    "\n",
    "# Ergebnisse anzeigen\n",
    "print(f\"Anzahl der Sichtungen in der Nähe von Area 51: {len(df_area51)}\")\n",
    "print(df_area51.head())"
   ]
  },
  {
   "cell_type": "code",
   "execution_count": 13,
   "metadata": {},
   "outputs": [
    {
     "name": "stdout",
     "output_type": "stream",
     "text": [
      "Anzahl der Sichtungen in der Nähe von Area 51: 4\n",
      "                  datetime               city state country     shape  \\\n",
      "5057   2004-10-28 20:25:00  area 51 (west of)    nv     NaN  fireball   \n",
      "13944  1999-11-03 02:00:00            area 51    nv     NaN    circle   \n",
      "14683  1989-11-05 02:00:00         groom lake    nv     NaN       egg   \n",
      "48985  1992-06-15 18:00:00            area 51    nv     NaN      oval   \n",
      "\n",
      "       duration_seconds duration_hour_min  \\\n",
      "5057                 10        10 seconds   \n",
      "13944              3600        app 1 hour   \n",
      "14683                12            12secs   \n",
      "48985             43200           12 hrs.   \n",
      "\n",
      "                                                comments date_posted  \\\n",
      "5057          Two fire balls entering earths atmosphere.  2013-12-02   \n",
      "13944  My brother and I witnessed a bright pulsating ...  2000-02-16   \n",
      "14683  This is a little long, so please hang in there...  1999-11-30   \n",
      "48985  4 adults video tape object over area 51 in Nev...  1998-03-07   \n",
      "\n",
      "        latitude   longitude  \n",
      "5057   37.252526 -115.800413  \n",
      "13944  37.252526 -115.800413  \n",
      "14683  37.276675 -115.798936  \n",
      "48985  37.252526 -115.800413  \n"
     ]
    }
   ],
   "source": [
    "radius20 = 0.20\n",
    "df_area51 = df_area51[ \n",
    "    (df_area51[\"latitude\"].astype(float) >= area51_lat - radius20) & \n",
    "    (df_area51[\"latitude\"].astype(float) <= area51_lat + radius20) & \n",
    "    (df_area51[\"longitude\"].astype(float) >= area51_lon - radius20) & \n",
    "    (df_area51[\"longitude\"].astype(float) <= area51_lon + radius20)\n",
    "]\n",
    "\n",
    "# Ergebnisse anzeigen\n",
    "print(f\"Anzahl der Sichtungen in der Nähe von Area 51: {len(df_area51)}\")\n",
    "print(df_area51.head())"
   ]
  },
  {
   "cell_type": "code",
   "execution_count": 14,
   "metadata": {},
   "outputs": [
    {
     "name": "stdout",
     "output_type": "stream",
     "text": [
      "Anzahl der Sichtungen in der Nähe von Area 51: 4\n",
      "                  datetime               city state country     shape  \\\n",
      "5057   2004-10-28 20:25:00  area 51 (west of)    nv     NaN  fireball   \n",
      "13944  1999-11-03 02:00:00            area 51    nv     NaN    circle   \n",
      "14683  1989-11-05 02:00:00         groom lake    nv     NaN       egg   \n",
      "48985  1992-06-15 18:00:00            area 51    nv     NaN      oval   \n",
      "\n",
      "       duration_seconds duration_hour_min  \\\n",
      "5057                 10        10 seconds   \n",
      "13944              3600        app 1 hour   \n",
      "14683                12            12secs   \n",
      "48985             43200           12 hrs.   \n",
      "\n",
      "                                                comments date_posted  \\\n",
      "5057          Two fire balls entering earths atmosphere.  2013-12-02   \n",
      "13944  My brother and I witnessed a bright pulsating ...  2000-02-16   \n",
      "14683  This is a little long, so please hang in there...  1999-11-30   \n",
      "48985  4 adults video tape object over area 51 in Nev...  1998-03-07   \n",
      "\n",
      "        latitude   longitude  \n",
      "5057   37.252526 -115.800413  \n",
      "13944  37.252526 -115.800413  \n",
      "14683  37.276675 -115.798936  \n",
      "48985  37.252526 -115.800413  \n"
     ]
    }
   ],
   "source": [
    "# raduis\n",
    "radius30 = 30  \n",
    "\n",
    "\n",
    "df_area51 = df_area51[  \n",
    "    (df_area51[\"latitude\"].astype(float) >= area51_lat - radius30) &  # Breitengrad muss größer oder gleich (Area 51 - Radius) sein\n",
    "    (df_area51[\"latitude\"].astype(float) <= area51_lat + radius30) &  # Breitengrad muss kleiner oder gleich (Area 51 + Radius) sein\n",
    "    (df_area51[\"latitude\"].astype(float) <= area51_lat + radius30) &  # Längengrad muss größer oder gleich (Area 51 - Radius) sein\n",
    "    (df_area51[\"longitude\"].astype(float) >= area51_lon - radius30)  # Längengrad muss kleiner oder gleich (Area 51 + Radius) sein\n",
    "]\n",
    "\n",
    "#  .astype(float)\n",
    "# Falls latitude und longitude als Strings gespeichert, müssen sie zuerst in Zahlen (float) konvertiert werde\n",
    "# Vergleiche (>=, <=) nur mit Zahlen funktionieren\n",
    "\n",
    "# Warum & statt ,\n",
    "# Das &-Zeichen bedeutet \"UND\" und sorgt dafür, dass ALLE Bedingungen gleichzeitig erfüllt sein müssen.\n",
    "# Ein Komma , wird in Pandas nur für die Auswahl mehrerer Spalten verwendet, aber nicht für Filterbedingungen\n",
    "\n",
    "print(f\"Anzahl der Sichtungen in der Nähe von Area 51: {len(df_area51)}\")\n",
    "\n",
    "print(df_area51.head())\n"
   ]
  },
  {
   "cell_type": "markdown",
   "metadata": {},
   "source": [
    "Sichtungen nach Tageszeit analysieren"
   ]
  },
  {
   "cell_type": "code",
   "execution_count": 15,
   "metadata": {},
   "outputs": [
    {
     "name": "stdout",
     "output_type": "stream",
     "text": [
      "       duration_seconds  duration_hour\n",
      "5057                 10       0.002778\n",
      "13944              3600       1.000000\n",
      "14683                12       0.003333\n",
      "48985             43200      12.000000\n"
     ]
    }
   ],
   "source": [
    "df_area51[\"duration_hour\"] = df_area51[\"duration_seconds\"] / 3600\n",
    "\n",
    "print(df_area51[[\"duration_seconds\", \"duration_hour\"]].head())"
   ]
  },
  {
   "cell_type": "code",
   "execution_count": 16,
   "metadata": {},
   "outputs": [
    {
     "data": {
      "text/html": [
       "<div>\n",
       "<style scoped>\n",
       "    .dataframe tbody tr th:only-of-type {\n",
       "        vertical-align: middle;\n",
       "    }\n",
       "\n",
       "    .dataframe tbody tr th {\n",
       "        vertical-align: top;\n",
       "    }\n",
       "\n",
       "    .dataframe thead th {\n",
       "        text-align: right;\n",
       "    }\n",
       "</style>\n",
       "<table border=\"1\" class=\"dataframe\">\n",
       "  <thead>\n",
       "    <tr style=\"text-align: right;\">\n",
       "      <th></th>\n",
       "      <th>datetime</th>\n",
       "      <th>city</th>\n",
       "      <th>state</th>\n",
       "      <th>country</th>\n",
       "      <th>shape</th>\n",
       "      <th>duration_seconds</th>\n",
       "      <th>duration_hour_min</th>\n",
       "      <th>comments</th>\n",
       "      <th>date_posted</th>\n",
       "      <th>latitude</th>\n",
       "      <th>longitude</th>\n",
       "      <th>duration_hour</th>\n",
       "    </tr>\n",
       "  </thead>\n",
       "  <tbody>\n",
       "    <tr>\n",
       "      <th>5057</th>\n",
       "      <td>2004-10-28 20:25:00</td>\n",
       "      <td>area 51 (west of)</td>\n",
       "      <td>nv</td>\n",
       "      <td>NaN</td>\n",
       "      <td>fireball</td>\n",
       "      <td>10</td>\n",
       "      <td>10 seconds</td>\n",
       "      <td>Two fire balls entering earths atmosphere.</td>\n",
       "      <td>2013-12-02</td>\n",
       "      <td>37.252526</td>\n",
       "      <td>-115.800413</td>\n",
       "      <td>0.002778</td>\n",
       "    </tr>\n",
       "    <tr>\n",
       "      <th>13944</th>\n",
       "      <td>1999-11-03 02:00:00</td>\n",
       "      <td>area 51</td>\n",
       "      <td>nv</td>\n",
       "      <td>NaN</td>\n",
       "      <td>circle</td>\n",
       "      <td>3600</td>\n",
       "      <td>app 1 hour</td>\n",
       "      <td>My brother and I witnessed a bright pulsating ...</td>\n",
       "      <td>2000-02-16</td>\n",
       "      <td>37.252526</td>\n",
       "      <td>-115.800413</td>\n",
       "      <td>1.000000</td>\n",
       "    </tr>\n",
       "    <tr>\n",
       "      <th>14683</th>\n",
       "      <td>1989-11-05 02:00:00</td>\n",
       "      <td>groom lake</td>\n",
       "      <td>nv</td>\n",
       "      <td>NaN</td>\n",
       "      <td>egg</td>\n",
       "      <td>12</td>\n",
       "      <td>12secs</td>\n",
       "      <td>This is a little long, so please hang in there...</td>\n",
       "      <td>1999-11-30</td>\n",
       "      <td>37.276675</td>\n",
       "      <td>-115.798936</td>\n",
       "      <td>0.003333</td>\n",
       "    </tr>\n",
       "    <tr>\n",
       "      <th>48985</th>\n",
       "      <td>1992-06-15 18:00:00</td>\n",
       "      <td>area 51</td>\n",
       "      <td>nv</td>\n",
       "      <td>NaN</td>\n",
       "      <td>oval</td>\n",
       "      <td>43200</td>\n",
       "      <td>12 hrs.</td>\n",
       "      <td>4 adults video tape object over area 51 in Nev...</td>\n",
       "      <td>1998-03-07</td>\n",
       "      <td>37.252526</td>\n",
       "      <td>-115.800413</td>\n",
       "      <td>12.000000</td>\n",
       "    </tr>\n",
       "  </tbody>\n",
       "</table>\n",
       "</div>"
      ],
      "text/plain": [
       "                  datetime               city state country     shape  \\\n",
       "5057   2004-10-28 20:25:00  area 51 (west of)    nv     NaN  fireball   \n",
       "13944  1999-11-03 02:00:00            area 51    nv     NaN    circle   \n",
       "14683  1989-11-05 02:00:00         groom lake    nv     NaN       egg   \n",
       "48985  1992-06-15 18:00:00            area 51    nv     NaN      oval   \n",
       "\n",
       "       duration_seconds duration_hour_min  \\\n",
       "5057                 10        10 seconds   \n",
       "13944              3600        app 1 hour   \n",
       "14683                12            12secs   \n",
       "48985             43200           12 hrs.   \n",
       "\n",
       "                                                comments date_posted  \\\n",
       "5057          Two fire balls entering earths atmosphere.  2013-12-02   \n",
       "13944  My brother and I witnessed a bright pulsating ...  2000-02-16   \n",
       "14683  This is a little long, so please hang in there...  1999-11-30   \n",
       "48985  4 adults video tape object over area 51 in Nev...  1998-03-07   \n",
       "\n",
       "        latitude   longitude  duration_hour  \n",
       "5057   37.252526 -115.800413       0.002778  \n",
       "13944  37.252526 -115.800413       1.000000  \n",
       "14683  37.276675 -115.798936       0.003333  \n",
       "48985  37.252526 -115.800413      12.000000  "
      ]
     },
     "execution_count": 16,
     "metadata": {},
     "output_type": "execute_result"
    }
   ],
   "source": [
    "df_area51"
   ]
  },
  {
   "cell_type": "code",
   "execution_count": 17,
   "metadata": {},
   "outputs": [
    {
     "name": "stdout",
     "output_type": "stream",
     "text": [
      "                 datetime  duration_seconds time_of_day\n",
      "5057  2004-10-28 20:25:00                10       Nacht\n",
      "13944 1999-11-03 02:00:00              3600       Nacht\n",
      "14683 1989-11-05 02:00:00                12       Nacht\n",
      "48985 1992-06-15 18:00:00             43200       Nacht\n"
     ]
    },
    {
     "name": "stderr",
     "output_type": "stream",
     "text": [
      "C:\\Users\\Admin\\AppData\\Local\\Temp\\ipykernel_14136\\3129969971.py:2: FutureWarning: errors='ignore' is deprecated and will raise in a future version. Use to_datetime without passing `errors` and catch exceptions explicitly instead\n",
      "  df_area51[\"datetime\"] = pd.to_datetime(df_area51[\"datetime\"], errors=\"ignore\")\n"
     ]
    }
   ],
   "source": [
    "# Stelle sicher, dass datetime ein DateTime-Objekt ist\n",
    "df_area51[\"datetime\"] = pd.to_datetime(df_area51[\"datetime\"], errors=\"ignore\")\n",
    "\n",
    "# Extrahiere die Stunde der Sichtung\n",
    "df_area51[\"hour\"] = df_area51[\"datetime\"].dt.hour\n",
    "\n",
    "# Weise die Tageszeit basierend auf der Sichtungsstunde zu\n",
    "df_area51[\"time_of_day\"] = df_area51[\"hour\"].apply(lambda x: \"Tag\" if 6 <= x < 18 else \"Nacht\")\n",
    "\n",
    "# Überprüfe das Ergebnis\n",
    "print(df_area51[[\"datetime\", \"duration_seconds\" ,\"time_of_day\"]].head())\n"
   ]
  },
  {
   "cell_type": "code",
   "execution_count": 18,
   "metadata": {},
   "outputs": [
    {
     "data": {
      "image/png": "[encoded data removed]",
      "text/plain": [
       "<Figure size 600x400 with 1 Axes>"
      ]
     },
     "metadata": {},
     "output_type": "display_data"
    }
   ],
   "source": [
    "import matplotlib.pyplot as plt  \n",
    "\n",
    "# Zähle die Sichtungen für \"Tag\" und \"Nacht\"\n",
    "time_counts = df_area51[\"time_of_day\"].value_counts()\n",
    "\n",
    "plt.figure(figsize=(6, 4))\n",
    "\n",
    "# Manuelle Reihenfolge: Erst \"Tag\", dann \"Nacht\"\n",
    "time_counts = time_counts.reindex([\"Tag\", \"Nacht\"])\n",
    "\n",
    "# Balkendiagramm \n",
    "time_counts.plot(kind=\"bar\", color=[\"orange\", \"darkblue\"])\n",
    "\n",
    "# Achsenbeschriftungen und Titel \n",
    "plt.xlabel(\"Tageszeit\")\n",
    "plt.ylabel(\"Anzahl der Sichtungen\")\n",
    "plt.title(\"UFO-Sichtungen nach Tageszeit in Area 51\")\n",
    "\n",
    "# X-Achsen-Beschriftung waagerecht ausrichten\n",
    "plt.xticks(rotation=0)\n",
    "\n",
    "plt.savefig(\"UFO Tageszeit.png\")\n",
    "plt.show()\n"
   ]
  },
  {
   "cell_type": "code",
   "execution_count": 19,
   "metadata": {},
   "outputs": [
    {
     "data": {
      "image/png": "[encoded data removed]",
      "text/plain": [
       "<Figure size 1200x600 with 1 Axes>"
      ]
     },
     "metadata": {},
     "output_type": "display_data"
    }
   ],
   "source": [
    "#Wir holen uns aus datetime nur das Jahr\n",
    "df_area51[\"year\"] = df_area51[\"datetime\"].dt.year\n",
    "\n",
    "#WIr zählen, wie oft jedes Jahr eine Sichtung registriert wurde\n",
    "\n",
    "df_trend = df_area51.groupby(\"year\").size().reset_index(name=\"count\")\n",
    "\n",
    "#diagramm\n",
    "import matplotlib.pyplot as plt\n",
    "\n",
    "plt.figure(figsize=(12,6))\n",
    "plt.plot(df_trend[\"year\"], df_trend[\"count\"], marker=\"o\", linestyle=\"-\", color=\"blue\")\n",
    "\n",
    "plt.xlabel(\"Jahr\")\n",
    "plt.ylabel(\"Anzahl der Sichtungen\")\n",
    "plt.title(\"UFO-Sichtungen in Area 51 über die Jahre\")\n",
    "plt.grid(True)\n",
    "\n",
    "plt.savefig(\"UFO_Sichtungen in Area 51 über die Jahre.png\")\n",
    "plt.show()\n",
    "\n",
    "\n"
   ]
  },
  {
   "cell_type": "code",
   "execution_count": 20,
   "metadata": {},
   "outputs": [
    {
     "data": {
      "image/png": "[encoded data removed]",
      "text/plain": [
       "<Figure size 1200x600 with 2 Axes>"
      ]
     },
     "metadata": {},
     "output_type": "display_data"
    }
   ],
   "source": [
    "# Notwendige Bibliotheken importieren\n",
    "import pandas as pd\n",
    "import seaborn as sns\n",
    "import matplotlib.pyplot as plt\n",
    "\n",
    "# Schauen ob  datetime ein Datetime-Objekt gespeichert ist\n",
    "df_area51[\"datetime\"] = pd.to_datetime(df_area51[\"datetime\"], errors=\"coerce\")\n",
    "\n",
    "# hole das Jahr und die Stunde aus der datetime-Spalte\n",
    "df_area51[\"year\"] = df_area51[\"datetime\"].dt.year  # Holt das Jahr der Sichtung\n",
    "df_area51[\"hour\"] = df_area51[\"datetime\"].dt.hour  # Holt die Stunde der Sichtung (0-23)\n",
    "\n",
    "# Pivot-Tabelle esretllen um die Sichtungshäufigkeit nach Jahr und Stunde darzustellen\n",
    "heatmap_data = df_area51.pivot_table(\n",
    "    index=\"hour\",  # Stunden als Zeilen (0 bis 23)\n",
    "    columns=\"year\",  # Jahre als Spalten\n",
    "    aggfunc=\"size\",  # Zählt die Anzahl der Sichtungen\n",
    "    fill_value=0  # Falls keine Sichtungen existieren, trage eine 0 ein\n",
    ")\n",
    "\n",
    "# Heatmap\n",
    "plt.figure(figsize=(12, 6))  # Größe des Diagramms festlegen\n",
    "sns.heatmap(\n",
    "    heatmap_data,  # Die erstellte Pivot-Tabelle als Datenquelle\n",
    "    cmap=\"coolwarm\",  # Farbskala: Blau für wenig, Rot für viele Sichtungen\n",
    "    annot=False,  # Keine Werte direkt in die Zellen schreiben (kann auf True gesetzt werden)\n",
    "    linewidths=0.5  # Feine Linien zwischen den Zellen für bessere Lesbarkeit\n",
    ")\n",
    "\n",
    "#Diagrammbeschriftung hinzufügen\n",
    "plt.xlabel(\"Jahr\")  # X-Achsen-Beschriftung\n",
    "plt.ylabel(\"Stunde des Tages\")  # Y-Achsen-Beschriftung\n",
    "plt.title(\"Heatmap der UFO-Sichtungen in Area 51 (Jahr vs. Stunde)\")  # Titel der Heatmap\n",
    "\n",
    "plt.savefig(\"heatmap.png\")\n",
    "plt.show()\n"
   ]
  }
 ],
 "metadata": {
  "kernelspec": {
   "display_name": "Python 3",
   "language": "python",
   "name": "python3"
  },
  "language_info": {
   "codemirror_mode": {
    "name": "ipython",
    "version": 3
   },
   "file_extension": ".py",
   "mimetype": "text/x-python",
   "name": "python",
   "nbconvert_exporter": "python",
   "pygments_lexer": "ipython3",
   "version": "3.13.1"
  }
 },
 "nbformat": 4,
 "nbformat_minor": 2
}
